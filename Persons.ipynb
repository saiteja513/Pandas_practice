{
 "cells": [
  {
   "cell_type": "code",
   "execution_count": 1,
   "id": "adbe3f70",
   "metadata": {},
   "outputs": [],
   "source": [
    "persons = {\n",
    "    \"first\" : \"Sai\",\n",
    "    \"last\" : \"Teja\",\n",
    "    \"email\" : \"saiteja@gmail.com\"\n",
    "}"
   ]
  },
  {
   "cell_type": "code",
   "execution_count": 2,
   "id": "ffa39b03",
   "metadata": {},
   "outputs": [
    {
     "data": {
      "text/plain": [
       "{'first': 'Sai', 'last': 'Teja', 'email': 'saiteja@gmail.com'}"
      ]
     },
     "execution_count": 2,
     "metadata": {},
     "output_type": "execute_result"
    }
   ],
   "source": [
    "persons"
   ]
  },
  {
   "cell_type": "code",
   "execution_count": 3,
   "id": "38b0b174",
   "metadata": {},
   "outputs": [],
   "source": [
    "persons = {\n",
    "    \"first\" : [\"Sai\",\"Arjun\",\"Rahul\"],\n",
    "    \"last\" : [\"Teja\",\"S\",\"Sai\"],\n",
    "    \"email\" : [\"saiteja@gmail.com\",\"arjun@gmail.com\",\"rahul@gmail.com\"]\n",
    "}"
   ]
  },
  {
   "cell_type": "code",
   "execution_count": 4,
   "id": "f04eea2f",
   "metadata": {},
   "outputs": [
    {
     "data": {
      "text/plain": [
       "{'first': ['Sai', 'Arjun', 'Rahul'],\n",
       " 'last': ['Teja', 'S', 'Sai'],\n",
       " 'email': ['saiteja@gmail.com', 'arjun@gmail.com', 'rahul@gmail.com']}"
      ]
     },
     "execution_count": 4,
     "metadata": {},
     "output_type": "execute_result"
    }
   ],
   "source": [
    "persons"
   ]
  },
  {
   "cell_type": "code",
   "execution_count": 6,
   "id": "a8bec19f",
   "metadata": {},
   "outputs": [
    {
     "data": {
      "text/plain": [
       "['saiteja@gmail.com', 'arjun@gmail.com', 'rahul@gmail.com']"
      ]
     },
     "execution_count": 6,
     "metadata": {},
     "output_type": "execute_result"
    }
   ],
   "source": [
    "persons[\"email\"]"
   ]
  }
 ],
 "metadata": {
  "kernelspec": {
   "display_name": "Python 3 (ipykernel)",
   "language": "python",
   "name": "python3"
  },
  "language_info": {
   "codemirror_mode": {
    "name": "ipython",
    "version": 3
   },
   "file_extension": ".py",
   "mimetype": "text/x-python",
   "name": "python",
   "nbconvert_exporter": "python",
   "pygments_lexer": "ipython3",
   "version": "3.11.1"
  }
 },
 "nbformat": 4,
 "nbformat_minor": 5
}
